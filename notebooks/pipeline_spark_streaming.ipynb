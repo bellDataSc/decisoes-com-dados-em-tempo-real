# 📊 Pipeline de Decisão com Spark Streaming

from pyspark.sql import SparkSession
from pyspark.sql.functions import col, sum as _sum

spark = SparkSession.builder.appName("StreamingVarejo").getOrCreate()

df_stream = spark.readStream.option("header", True).option("inferSchema", True).csv("../data/simulados")

vendas_categoria = df_stream.groupBy("categoria").agg(_sum("valor").alias("total_vendas"))

query = vendas_categoria.writeStream.outputMode("complete").format("console").start()

query.awaitTermination()
